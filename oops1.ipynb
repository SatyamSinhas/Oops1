{
 "cells": [
  {
   "cell_type": "code",
   "execution_count": 1,
   "id": "9a2e35e1-fcf7-4249-baa5-a7c862722e7f",
   "metadata": {},
   "outputs": [],
   "source": [
    "#1Bank Account Create a class representing a bank account with attributes like account number, account holder name, and balance. Implement methods to deposit and withdraw money from the account."
   ]
  },
  {
   "cell_type": "code",
   "execution_count": 3,
   "id": "748e8ce5-a1d2-46f2-aec0-c55c01c3f8d6",
   "metadata": {},
   "outputs": [],
   "source": [
    "class BankAccount:\n",
    "    def __init__(self, account_number, account_holder_name, balance=0):\n",
    "        self.account_number = account_number\n",
    "        self.account_holder_name = account_holder_name\n",
    "        self.balance = balance\n",
    "\n",
    "    def deposit(self, amount):\n",
    "        self.balance += amount\n",
    "        return self.balance\n",
    "\n",
    "    def withdraw(self, amount):\n",
    "        if amount > self.balance:\n",
    "            print(\"Insufficient balance!\")\n",
    "            return\n",
    "        self.balance -= amount\n",
    "        return self.balance\n",
    "\n",
    "    def get_balance(self):\n",
    "        return self.balance\n"
   ]
  },
  {
   "cell_type": "code",
   "execution_count": 8,
   "id": "2d22f2b2-9870-491f-8198-6e3cc62bd05b",
   "metadata": {},
   "outputs": [
    {
     "name": "stdout",
     "output_type": "stream",
     "text": [
      "6479\n"
     ]
    }
   ],
   "source": [
    "account = BankAccount('123456', 'Satyam Sinha', 6779)\n",
    "account.deposit(500)\n",
    "account.withdraw(800)\n",
    "print(account.get_balance())"
   ]
  },
  {
   "cell_type": "code",
   "execution_count": 11,
   "id": "40b6064b-8cfe-4bcc-a8cf-22da095be8f9",
   "metadata": {},
   "outputs": [],
   "source": [
    "#2Employee Management Create a class representing an employee with attributes like employee ID, name, and salary. Implement methods to calculate the yearly bonus and display employee details.         "
   ]
  },
  {
   "cell_type": "code",
   "execution_count": 10,
   "id": "9daf2972-e136-4483-a92b-a2fa7c5eafa1",
   "metadata": {},
   "outputs": [],
   "source": [
    "class Employee:\n",
    "    def __init__(self, employee_id, name, salary):\n",
    "        self.employee_id = employee_id\n",
    "        self.name = name\n",
    "        self.salary = salary\n",
    "\n",
    "    def calculate_yearly_bonus(self):\n",
    "        # Let's assume the bonus is 10% of the salary\n",
    "        bonus = self.salary * 0.10\n",
    "        return bonus\n",
    "\n",
    "    def display_employee_details(self):\n",
    "        print(f\"Employee ID: {self.employee_id}\")\n",
    "        print(f\"Name: {self.name}\")\n",
    "        print(f\"Salary: {self.salary}\")"
   ]
  },
  {
   "cell_type": "code",
   "execution_count": 12,
   "id": "dfb6805a-2644-48f8-bd38-7f1faa944389",
   "metadata": {},
   "outputs": [
    {
     "name": "stdout",
     "output_type": "stream",
     "text": [
      "Yearly Bonus: 9000.0\n",
      "Employee ID: E1653\n",
      "Name: Satyam Sinha\n",
      "Salary: 90000\n"
     ]
    }
   ],
   "source": [
    "employee = Employee('E1653', 'Satyam Sinha', 90000)\n",
    "bonus = employee.calculate_yearly_bonus()\n",
    "print(f\"Yearly Bonus: {bonus}\")\n",
    "employee.display_employee_details()\n"
   ]
  },
  {
   "cell_type": "code",
   "execution_count": 13,
   "id": "3b49b957-c67f-4d5f-8510-309bfae0fb11",
   "metadata": {},
   "outputs": [],
   "source": [
    "#3Vehicle Rental Create a class representing a vehicle rental system.Implement methods to rent a vehicle, return a vehicle, and display available vehicles."
   ]
  },
  {
   "cell_type": "code",
   "execution_count": 25,
   "id": "47f5ae73-fe00-40df-9d24-fe4db7f1b057",
   "metadata": {},
   "outputs": [],
   "source": [
    "class VehicleRentalSystem:\n",
    "    def __init__(self):\n",
    "        self.available_vehicles = ['Car', 'Bike', 'Van']\n",
    "\n",
    "    def rent_vehicle(self, vehicle):\n",
    "        if vehicle in self.available_vehicles:\n",
    "            self.available_vehicles.remove(vehicle)\n",
    "            return f\"{vehicle} has been rented.\"\n",
    "        else:\n",
    "            return f\"Sorry, {vehicle} is not available for rent.\"\n",
    "\n",
    "    def return_vehicle(self, vehicle):\n",
    "        self.available_vehicles.append(vehicle)\n",
    "        return f\"{vehicle} has been returned.\"\n",
    "\n",
    "    def display_available_vehicles(self):\n",
    "        return ', '.join(self.available_vehicles)\n"
   ]
  },
  {
   "cell_type": "code",
   "execution_count": 27,
   "id": "50c127dd-eef5-48ba-9438-7aa800caa1ac",
   "metadata": {},
   "outputs": [
    {
     "name": "stdout",
     "output_type": "stream",
     "text": [
      "Car has been rented.\n",
      "Bike, Van\n",
      "Car has been returned.\n",
      "Bike, Van, Car\n"
     ]
    }
   ],
   "source": [
    "rental_system = VehicleRentalSystem()\n",
    "print(rental_system.rent_vehicle('Car'))\n",
    "print(rental_system.display_available_vehicles())\n",
    "print(rental_system.return_vehicle('Car'))\n",
    "print(rental_system.display_available_vehicles())"
   ]
  },
  {
   "cell_type": "code",
   "execution_count": 28,
   "id": "2c2641f0-f1e0-481d-aafe-6021ceb48dfd",
   "metadata": {},
   "outputs": [],
   "source": [
    "#Problem 4: Library Catalog Create classes representing a library and a book. Implement methods to add books to the library, borrow books, and display available books."
   ]
  },
  {
   "cell_type": "code",
   "execution_count": 29,
   "id": "8edfb7a6-5813-4edb-aff5-d1d6c3cac8cf",
   "metadata": {},
   "outputs": [],
   "source": [
    "class Book:\n",
    "    def __init__(self, title, author):\n",
    "        self.title = title\n",
    "        self.author = author\n",
    "        self.is_borrowed = False\n",
    "\n",
    "    def borrow(self):\n",
    "        if not self.is_borrowed:\n",
    "            self.is_borrowed = True\n",
    "            return True\n",
    "        else:\n",
    "            return False\n",
    "\n",
    "    def return_book(self):\n",
    "        if self.is_borrowed:\n",
    "            self.is_borrowed = False\n",
    "            return True\n",
    "        else:\n",
    "            return False\n",
    "\n",
    "class Library:\n",
    "    def __init__(self):\n",
    "        self.books = []\n",
    "\n",
    "    def add_book(self, book):\n",
    "        self.books.append(book)\n",
    "\n",
    "    def borrow_book(self, title):\n",
    "        for book in self.books:\n",
    "            if book.title == title:\n",
    "                if book.borrow():\n",
    "                    return f\"You have borrowed {title}\"\n",
    "                else:\n",
    "                    return f\"{title} is currently borrowed by someone else.\"\n",
    "        return f\"{title} is not in the library.\"\n",
    "\n",
    "    def return_book(self, title):\n",
    "        for book in self.books:\n",
    "            if book.title == title:\n",
    "                if book.return_book():\n",
    "                    return f\"You have returned {title}\"\n",
    "                else:\n",
    "                    return f\"{title} was not borrowed.\"\n",
    "        return f\"{title} is not in the library.\"\n",
    "\n",
    "    def display_books(self):\n",
    "        available_books = [book.title for book in self.books if not book.is_borrowed]\n",
    "        return ', '.join(available_books)\n"
   ]
  },
  {
   "cell_type": "code",
   "execution_count": 30,
   "id": "7881cade-0079-4dad-b528-5252f2c40838",
   "metadata": {},
   "outputs": [
    {
     "name": "stdout",
     "output_type": "stream",
     "text": [
      "You have borrowed Book1\n",
      "Book2\n",
      "You have returned Book1\n",
      "Book1, Book2\n"
     ]
    }
   ],
   "source": [
    "library = Library()\n",
    "book1 = Book('Book1', 'Author1')\n",
    "book2 = Book('Book2', 'Author2')\n",
    "library.add_book(book1)\n",
    "library.add_book(book2)\n",
    "print(library.borrow_book('Book1'))\n",
    "print(library.display_books())\n",
    "print(library.return_book('Book1'))\n",
    "print(library.display_books())\n"
   ]
  },
  {
   "cell_type": "code",
   "execution_count": 31,
   "id": "b59cd7d8-7d8b-4eb9-a9be-68d81d51663c",
   "metadata": {},
   "outputs": [],
   "source": [
    "#Problem 5: Product Inventory Create classes representing a product and an inventory system. Implement methods to add products to the inventory, update product quantity, and display available products."
   ]
  },
  {
   "cell_type": "code",
   "execution_count": 32,
   "id": "716e8e58-6e96-4a6a-a094-43fd45c7efd1",
   "metadata": {},
   "outputs": [],
   "source": [
    "class Product:\n",
    "    def __init__(self, product_id, name, quantity):\n",
    "        self.product_id = product_id\n",
    "        self.name = name\n",
    "        self.quantity = quantity\n",
    "\n",
    "class Inventory:\n",
    "    def __init__(self):\n",
    "        self.products = {}\n",
    "\n",
    "    def add_product(self, product):\n",
    "        if product.product_id in self.products:\n",
    "            self.products[product.product_id].quantity += product.quantity\n",
    "        else:\n",
    "            self.products[product.product_id] = product\n",
    "\n",
    "    def update_product_quantity(self, product_id, quantity):\n",
    "        if product_id in self.products:\n",
    "            self.products[product_id].quantity = quantity\n",
    "        else:\n",
    "            print(f\"Product {product_id} does not exist in the inventory.\")\n",
    "\n",
    "    def display_products(self):\n",
    "        for product in self.products.values():\n",
    "            print(f\"Product ID: {product.product_id}, Name: {product.name}, Quantity: {product.quantity}\")"
   ]
  },
  {
   "cell_type": "code",
   "execution_count": 33,
   "id": "863009b0-181e-4f6d-9a34-301df03da47e",
   "metadata": {},
   "outputs": [
    {
     "name": "stdout",
     "output_type": "stream",
     "text": [
      "Product ID: P123, Name: Product1, Quantity: 10\n",
      "Product ID: P124, Name: Product2, Quantity: 20\n",
      "Product ID: P123, Name: Product1, Quantity: 15\n",
      "Product ID: P124, Name: Product2, Quantity: 20\n"
     ]
    }
   ],
   "source": [
    "inventory = Inventory()\n",
    "product1 = Product('P123', 'Product1', 10)\n",
    "product2 = Product('P124', 'Product2', 20)\n",
    "inventory.add_product(product1)\n",
    "inventory.add_product(product2)\n",
    "inventory.display_products()\n",
    "inventory.update_product_quantity('P123', 15)\n",
    "inventory.display_products()\n"
   ]
  },
  {
   "cell_type": "code",
   "execution_count": 1,
   "id": "acb0e550-09a9-4c1b-ab26-238d351da7f4",
   "metadata": {},
   "outputs": [],
   "source": [
    "#Problem 6: Shape Calculation Create a class representing a shape with attributes like length, width, and height. Implement methods to calculate the area and perimeter of the shape."
   ]
  },
  {
   "cell_type": "code",
   "execution_count": 2,
   "id": "1dc14638-9f4c-450e-95f7-fb059b645c31",
   "metadata": {},
   "outputs": [],
   "source": [
    "class Shape:\n",
    "    def __init__(self, length, width, height):\n",
    "        self.length = length\n",
    "        self.width = width\n",
    "        self.height = height\n",
    "\n",
    "    def calculate_area(self):\n",
    "        return self.length * self.width\n",
    "\n",
    "    def calculate_perimeter(self):\n",
    "        return 2 * (self.length + self.width)\n"
   ]
  },
  {
   "cell_type": "code",
   "execution_count": 3,
   "id": "0f298a94-5716-45f1-8a59-3a692e7bb580",
   "metadata": {},
   "outputs": [
    {
     "name": "stdout",
     "output_type": "stream",
     "text": [
      "Area: 50\n",
      "Perimeter: 30\n"
     ]
    }
   ],
   "source": [
    "shape = Shape(10, 5, 15)\n",
    "print(f\"Area: {shape.calculate_area()}\")\n",
    "print(f\"Perimeter: {shape.calculate_perimeter()}\")"
   ]
  },
  {
   "cell_type": "code",
   "execution_count": 4,
   "id": "a6c5f1a6-f043-4a19-9326-ceb2f415c7d1",
   "metadata": {},
   "outputs": [],
   "source": [
    "#Problem 7: Student Management Create a class representing a student with attributes like student ID, name, and grades. Implement methods to calculate the average grade and display student details."
   ]
  },
  {
   "cell_type": "code",
   "execution_count": 3,
   "id": "46e38f60-35f9-467c-9166-94debc401e14",
   "metadata": {},
   "outputs": [],
   "source": [
    "class Student:\n",
    "    def __init__(self, student_id, name, grades):\n",
    "        self.student_id = student_id\n",
    "        self.name = name\n",
    "        self.grades = grades\n",
    "\n",
    "    def calculate_average_grade(self):\n",
    "        return sum(self.grades) / len(self.grades)\n",
    "\n",
    "    def display_student_details(self):\n",
    "        print(f\"Student ID: {self.student_id}\")\n",
    "        print(f\"Name: {self.name}\")\n",
    "        print(f\"Grades: {self.grades}\")\n",
    "        print(f\"Average Grade: {self.calculate_average_grade()}\")"
   ]
  },
  {
   "cell_type": "code",
   "execution_count": 4,
   "id": "d9c6f901-38f8-40a5-aa09-9fc202a97170",
   "metadata": {},
   "outputs": [
    {
     "name": "stdout",
     "output_type": "stream",
     "text": [
      "Student ID: S123\n",
      "Name: John Doe\n",
      "Grades: [85, 90, 78, 92, 88]\n",
      "Average Grade: 86.6\n"
     ]
    }
   ],
   "source": [
    "student = Student('S123', 'John Doe', [85, 90, 78, 92, 88])\n",
    "student.display_student_details()\n"
   ]
  },
  {
   "cell_type": "code",
   "execution_count": 5,
   "id": "64585ac3-b1af-4ca4-836b-ec7db40543b8",
   "metadata": {},
   "outputs": [],
   "source": [
    "#Problem 8: Email Management Create a class representing an email with attributes like sender, recipient, and subject. Implement methods to send an email and display email details."
   ]
  },
  {
   "cell_type": "code",
   "execution_count": 6,
   "id": "0886b798-1204-4242-9b75-e488fce0533d",
   "metadata": {},
   "outputs": [],
   "source": [
    "class Email:\n",
    "    def __init__(self, sender, recipient, subject, body):\n",
    "        self.sender = sender\n",
    "        self.recipient = recipient\n",
    "        self.subject = subject\n",
    "        self.body = body\n",
    "\n",
    "    def send_email(self):\n",
    "        print(f\"Sending email from {self.sender} to {self.recipient}...\")\n",
    "        print(\"Email sent!\")\n",
    "\n",
    "    def display_email_details(self):\n",
    "        print(f\"Sender: {self.sender}\")\n",
    "        print(f\"Recipient: {self.recipient}\")\n",
    "        print(f\"Subject: {self.subject}\")\n",
    "        print(f\"Body: {self.body}\")\n"
   ]
  },
  {
   "cell_type": "code",
   "execution_count": 7,
   "id": "c8d1a780-09c2-4927-9f98-c44843a408d3",
   "metadata": {},
   "outputs": [
    {
     "name": "stdout",
     "output_type": "stream",
     "text": [
      "Sending email from satyam@example.com to rsj@example.com...\n",
      "Email sent!\n",
      "Sender: satyam@example.com\n",
      "Recipient: rsj@example.com\n",
      "Subject: Inro\n",
      "Body: How are you?\n"
     ]
    }
   ],
   "source": [
    "email = Email('satyam@example.com', 'rsj@example.com', 'Inro', 'How are you?')\n",
    "email.send_email()\n",
    "email.display_email_details()\n"
   ]
  },
  {
   "cell_type": "code",
   "execution_count": 8,
   "id": "80b19c87-cd4a-470a-84b2-e24a74cd4299",
   "metadata": {},
   "outputs": [],
   "source": [
    "#Problem 9: Social Media Profile Create a class representing a social media profile with attributes like username and posts. Implement methods to add posts, display posts, and search for posts by keyword."
   ]
  },
  {
   "cell_type": "code",
   "execution_count": 9,
   "id": "6387c80e-cdbf-4248-adf7-5d1d553098d0",
   "metadata": {},
   "outputs": [],
   "source": [
    "class SocialMediaProfile:\n",
    "    def __init__(self, username):\n",
    "        self.username = username\n",
    "        self.posts = []\n",
    "\n",
    "    def add_post(self, post):\n",
    "        self.posts.append(post)\n",
    "\n",
    "    def display_posts(self):\n",
    "        for post in self.posts:\n",
    "            print(post)\n",
    "\n",
    "    def search_posts(self, keyword):\n",
    "        matching_posts = [post for post in self.posts if keyword in post]\n",
    "        return matching_posts"
   ]
  },
  {
   "cell_type": "code",
   "execution_count": 13,
   "id": "40d980fb-a864-43e5-a022-4df7e986d0d8",
   "metadata": {},
   "outputs": [
    {
     "name": "stdout",
     "output_type": "stream",
     "text": [
      "Hello, world!\n",
      "I love Python.\n",
      "I live in jamshedpur.\n",
      "['I live in jamshedpur.']\n"
     ]
    }
   ],
   "source": [
    "profile = SocialMediaProfile('Satyam Sinha')\n",
    "profile.add_post('Hello, world!')\n",
    "profile.add_post('I love Python.')\n",
    "profile.add_post('I live in jamshedpur.')\n",
    "\n",
    "profile.display_posts()\n",
    "print(profile.search_posts('jamshedpur'))"
   ]
  },
  {
   "cell_type": "code",
   "execution_count": 14,
   "id": "94fed132-4b36-45ee-a7af-0bf29e7bd700",
   "metadata": {},
   "outputs": [],
   "source": [
    "#Problem 10: ToDo List Create a class representing a ToDo list with attributes like tasks and due dates. Implement methods to add tasks, mark tasks as completed, and display pending tasks."
   ]
  },
  {
   "cell_type": "code",
   "execution_count": 2,
   "id": "875f42b0-8576-43e2-8efe-d8e4d14dd435",
   "metadata": {},
   "outputs": [],
   "source": [
    "class Task:\n",
    "    def __init__(self, name, due_date):\n",
    "        self.name = name\n",
    "        self.due_date = due_date\n",
    "        self.is_completed = False\n",
    "\n",
    "    def mark_as_completed(self):\n",
    "        self.is_completed = True\n",
    "\n",
    "class ToDoList:\n",
    "    def __init__(self):\n",
    "        self.tasks = []\n",
    "\n",
    "    def add_task(self, task):\n",
    "        self.tasks.append(task)\n",
    "        \n",
    "    def dis(self):\n",
    "        for task in self.tasks:\n",
    "            print(task)\n",
    "    \n",
    "    def display_pending_tasks(self):\n",
    "        pending_tasks = [task.name for task in self.tasks if not task.is_completed]\n",
    "        return ', '.join(pending_tasks)"
   ]
  },
  {
   "cell_type": "code",
   "execution_count": 4,
   "id": "9a4d4766-bcfe-45f9-b599-a8f75db48a1d",
   "metadata": {},
   "outputs": [
    {
     "name": "stdout",
     "output_type": "stream",
     "text": [
      "Buy groceries, Finish project\n",
      "Finish project\n"
     ]
    }
   ],
   "source": [
    "todo_list = ToDoList()\n",
    "task1 = Task('Buy groceries', '2022-12-31')\n",
    "task2 = Task('Finish project', '2023-01-31')\n",
    "todo_list.add_task(task1)\n",
    "todo_list.add_task(task2)\n",
    "print(todo_list.display_pending_tasks())\n",
    "task1.mark_as_completed()\n",
    "print(todo_list.display_pending_tasks())"
   ]
  },
  {
   "cell_type": "code",
   "execution_count": null,
   "id": "ee627eb2-e779-4eea-abc3-7bb0f6ffb8b3",
   "metadata": {},
   "outputs": [],
   "source": []
  },
  {
   "cell_type": "code",
   "execution_count": null,
   "id": "6e111ee5-1920-41f9-b60e-e31d7bf2cb54",
   "metadata": {},
   "outputs": [],
   "source": []
  }
 ],
 "metadata": {
  "kernelspec": {
   "display_name": "Python 3 (ipykernel)",
   "language": "python",
   "name": "python3"
  },
  "language_info": {
   "codemirror_mode": {
    "name": "ipython",
    "version": 3
   },
   "file_extension": ".py",
   "mimetype": "text/x-python",
   "name": "python",
   "nbconvert_exporter": "python",
   "pygments_lexer": "ipython3",
   "version": "3.10.8"
  }
 },
 "nbformat": 4,
 "nbformat_minor": 5
}
